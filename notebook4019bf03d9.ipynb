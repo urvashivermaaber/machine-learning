{
 "cells": [
  {
   "cell_type": "code",
   "execution_count": 1,
   "id": "612efc4a",
   "metadata": {
    "_cell_guid": "b1076dfc-b9ad-4769-8c92-a6c4dae69d19",
    "_uuid": "8f2839f25d086af736a60e9eeb907d3b93b6e0e5",
    "execution": {
     "iopub.execute_input": "2022-05-20T04:26:49.478574Z",
     "iopub.status.busy": "2022-05-20T04:26:49.478110Z",
     "iopub.status.idle": "2022-05-20T04:26:49.492598Z",
     "shell.execute_reply": "2022-05-20T04:26:49.491801Z"
    },
    "papermill": {
     "duration": 0.039898,
     "end_time": "2022-05-20T04:26:49.494838",
     "exception": false,
     "start_time": "2022-05-20T04:26:49.454940",
     "status": "completed"
    },
    "tags": []
   },
   "outputs": [
    {
     "name": "stdout",
     "output_type": "stream",
     "text": [
      "/kaggle/input/ml22-assignment2/train_signal.csv\n",
      "/kaggle/input/ml22-assignment2/sampleSubmission.csv\n",
      "/kaggle/input/ml22-assignment2/train_feat.csv\n",
      "/kaggle/input/ml22-assignment2/test_signal.csv\n",
      "/kaggle/input/ml22-assignment2/test_feat.csv\n"
     ]
    }
   ],
   "source": [
    "# This Python 3 environment comes with many helpful analytics libraries installed\n",
    "# It is defined by the kaggle/python Docker image: https://github.com/kaggle/docker-python\n",
    "# For example, here's several helpful packages to load\n",
    "\n",
    "import numpy as np # linear algebra\n",
    "import pandas as pd # data processing, CSV file I/O (e.g. pd.read_csv)\n",
    "\n",
    "# Input data files are available in the read-only \"../input/\" directory\n",
    "# For example, running this (by clicking run or pressing Shift+Enter) will list all files under the input directory\n",
    "\n",
    "import os\n",
    "for dirname, _, filenames in os.walk('/kaggle/input'):\n",
    "    for filename in filenames:\n",
    "        print(os.path.join(dirname, filename))\n",
    "\n",
    "# You can write up to 20GB to the current directory (/kaggle/working/) that gets preserved as output when you create a version using \"Save & Run All\" \n",
    "# You can also write temporary files to /kaggle/temp/, but they won't be saved outside of the current session"
   ]
  },
  {
   "cell_type": "code",
   "execution_count": 2,
   "id": "37f8a8e0",
   "metadata": {
    "execution": {
     "iopub.execute_input": "2022-05-20T04:26:49.540644Z",
     "iopub.status.busy": "2022-05-20T04:26:49.540013Z",
     "iopub.status.idle": "2022-05-20T04:26:50.991625Z",
     "shell.execute_reply": "2022-05-20T04:26:50.990861Z"
    },
    "papermill": {
     "duration": 1.475361,
     "end_time": "2022-05-20T04:26:50.993851",
     "exception": false,
     "start_time": "2022-05-20T04:26:49.518490",
     "status": "completed"
    },
    "tags": []
   },
   "outputs": [],
   "source": [
    "import pandas as pd\n",
    "from sklearn.ensemble import RandomForestClassifier,RandomForestRegressor\n",
    "from sklearn.metrics import mean_squared_error\n",
    "from sklearn.model_selection import train_test_split\n",
    "from sklearn.metrics import accuracy_score,classification_report\n",
    "from sklearn.impute import SimpleImputer\n",
    "import matplotlib.pyplot as plt\n",
    "from sklearn.metrics import classification_report, confusion_matrix, plot_confusion_matrix\n",
    "from sklearn.model_selection import train_test_split\n",
    "from sklearn.metrics import classification_report\n",
    "import numpy as np\n",
    "from sklearn.model_selection import cross_validate\n",
    "from sklearn.tree import DecisionTreeClassifier\n",
    "from sklearn.feature_selection import SelectFromModel\n",
    "from sklearn.model_selection import RepeatedStratifiedKFold\n",
    "from sklearn.model_selection import GridSearchCV\n",
    "import warnings\n",
    "warnings.filterwarnings('ignore')"
   ]
  },
  {
   "cell_type": "code",
   "execution_count": 3,
   "id": "465b1e4e",
   "metadata": {
    "execution": {
     "iopub.execute_input": "2022-05-20T04:26:51.037090Z",
     "iopub.status.busy": "2022-05-20T04:26:51.036430Z",
     "iopub.status.idle": "2022-05-20T04:26:52.053784Z",
     "shell.execute_reply": "2022-05-20T04:26:52.052903Z"
    },
    "papermill": {
     "duration": 1.041527,
     "end_time": "2022-05-20T04:26:52.056045",
     "exception": false,
     "start_time": "2022-05-20T04:26:51.014518",
     "status": "completed"
    },
    "tags": []
   },
   "outputs": [],
   "source": [
    "train = pd.read_csv(\"/kaggle/input/ml22-assignment2/train_feat.csv\")\n",
    "test_try = pd.read_csv(\"/kaggle/input/ml22-assignment2/test_feat.csv\")\n",
    "test = pd.read_csv(\"/kaggle/input/ml22-assignment2/test_feat.csv\") \n",
    "\n",
    "train1 = train.drop([\"ID\",\"Type\",\"F158\", \"F170\", \"F171\"], axis=1)\n",
    "train2 =train['Type']\n",
    "test = test.drop([\"ID\",\"F158\", \"F170\", \"F171\"], axis=1)\n"
   ]
  },
  {
   "cell_type": "code",
   "execution_count": 4,
   "id": "1e3e83fc",
   "metadata": {
    "execution": {
     "iopub.execute_input": "2022-05-20T04:26:52.098656Z",
     "iopub.status.busy": "2022-05-20T04:26:52.098398Z",
     "iopub.status.idle": "2022-05-20T04:26:52.102849Z",
     "shell.execute_reply": "2022-05-20T04:26:52.101902Z"
    },
    "papermill": {
     "duration": 0.028185,
     "end_time": "2022-05-20T04:26:52.104883",
     "exception": false,
     "start_time": "2022-05-20T04:26:52.076698",
     "status": "completed"
    },
    "tags": []
   },
   "outputs": [],
   "source": [
    "test_id=test_try[\"ID\"]\n",
    "test_id=list(test_id)\n"
   ]
  },
  {
   "cell_type": "code",
   "execution_count": 5,
   "id": "5269cf55",
   "metadata": {
    "execution": {
     "iopub.execute_input": "2022-05-20T04:26:52.148478Z",
     "iopub.status.busy": "2022-05-20T04:26:52.148156Z",
     "iopub.status.idle": "2022-05-20T04:26:52.151939Z",
     "shell.execute_reply": "2022-05-20T04:26:52.151122Z"
    },
    "papermill": {
     "duration": 0.027851,
     "end_time": "2022-05-20T04:26:52.153900",
     "exception": false,
     "start_time": "2022-05-20T04:26:52.126049",
     "status": "completed"
    },
    "tags": []
   },
   "outputs": [],
   "source": [
    "train1df=pd.DataFrame(train1)\n",
    "test=pd.DataFrame(test)"
   ]
  },
  {
   "cell_type": "code",
   "execution_count": 6,
   "id": "9ea1e363",
   "metadata": {
    "execution": {
     "iopub.execute_input": "2022-05-20T04:26:52.197378Z",
     "iopub.status.busy": "2022-05-20T04:26:52.197057Z",
     "iopub.status.idle": "2022-05-20T04:26:52.212969Z",
     "shell.execute_reply": "2022-05-20T04:26:52.211910Z"
    },
    "papermill": {
     "duration": 0.039905,
     "end_time": "2022-05-20T04:26:52.215077",
     "exception": false,
     "start_time": "2022-05-20T04:26:52.175172",
     "status": "completed"
    },
    "tags": []
   },
   "outputs": [
    {
     "name": "stdout",
     "output_type": "stream",
     "text": [
      "3\n",
      "5\n",
      "\n",
      "\n",
      "1\n"
     ]
    }
   ],
   "source": [
    "missing_values_train_count = train1df.isnull().sum()\n",
    "for x in missing_values_train_count:\n",
    "    if x!=0:\n",
    "        print(x)\n",
    "#print(missing_values_count)\n",
    "missing_values_test_count = test.isnull().sum()\n",
    "for x in missing_values_test_count:\n",
    "    if x!=0:\n",
    "        print(\"\\n\")\n",
    "        print(x)"
   ]
  },
  {
   "cell_type": "code",
   "execution_count": 7,
   "id": "9f0ba3fb",
   "metadata": {
    "execution": {
     "iopub.execute_input": "2022-05-20T04:26:52.260339Z",
     "iopub.status.busy": "2022-05-20T04:26:52.260009Z",
     "iopub.status.idle": "2022-05-20T04:26:52.606002Z",
     "shell.execute_reply": "2022-05-20T04:26:52.605127Z"
    },
    "papermill": {
     "duration": 0.370357,
     "end_time": "2022-05-20T04:26:52.608384",
     "exception": false,
     "start_time": "2022-05-20T04:26:52.238027",
     "status": "completed"
    },
    "tags": []
   },
   "outputs": [],
   "source": [
    "my_imputer = SimpleImputer(strategy=\"most_frequent\")\n",
    "train1 = my_imputer.fit_transform(train1)\n",
    "test=my_imputer.fit_transform(test)"
   ]
  },
  {
   "cell_type": "code",
   "execution_count": 8,
   "id": "f58bd043",
   "metadata": {
    "execution": {
     "iopub.execute_input": "2022-05-20T04:26:52.652594Z",
     "iopub.status.busy": "2022-05-20T04:26:52.652314Z",
     "iopub.status.idle": "2022-05-20T04:26:52.657173Z",
     "shell.execute_reply": "2022-05-20T04:26:52.656279Z"
    },
    "papermill": {
     "duration": 0.029843,
     "end_time": "2022-05-20T04:26:52.659129",
     "exception": false,
     "start_time": "2022-05-20T04:26:52.629286",
     "status": "completed"
    },
    "tags": []
   },
   "outputs": [],
   "source": [
    "train1df=pd.DataFrame(train1)\n",
    "test=pd.DataFrame(test)"
   ]
  },
  {
   "cell_type": "code",
   "execution_count": 9,
   "id": "f7b4e08f",
   "metadata": {
    "execution": {
     "iopub.execute_input": "2022-05-20T04:26:52.703492Z",
     "iopub.status.busy": "2022-05-20T04:26:52.703185Z",
     "iopub.status.idle": "2022-05-20T04:26:52.716366Z",
     "shell.execute_reply": "2022-05-20T04:26:52.715679Z"
    },
    "papermill": {
     "duration": 0.038015,
     "end_time": "2022-05-20T04:26:52.718406",
     "exception": false,
     "start_time": "2022-05-20T04:26:52.680391",
     "status": "completed"
    },
    "tags": []
   },
   "outputs": [],
   "source": [
    "missing_values_train_count = train1df.isnull().sum()\n",
    "for x in missing_values_train_count:\n",
    "    if x!=0:\n",
    "        print(x)\n",
    "#print(missing_values_count)\n",
    "missing_values_test_count = test.isnull().sum()\n",
    "for x in missing_values_test_count:\n",
    "    if x!=0:\n",
    "        print(\"\\n\")\n",
    "        print(x)"
   ]
  },
  {
   "cell_type": "code",
   "execution_count": 10,
   "id": "73b856d1",
   "metadata": {
    "execution": {
     "iopub.execute_input": "2022-05-20T04:26:52.761788Z",
     "iopub.status.busy": "2022-05-20T04:26:52.761217Z",
     "iopub.status.idle": "2022-05-20T04:26:52.764945Z",
     "shell.execute_reply": "2022-05-20T04:26:52.764315Z"
    },
    "papermill": {
     "duration": 0.027218,
     "end_time": "2022-05-20T04:26:52.766574",
     "exception": false,
     "start_time": "2022-05-20T04:26:52.739356",
     "status": "completed"
    },
    "tags": []
   },
   "outputs": [],
   "source": [
    "trainData= train1\n",
    "trainCls = train2.to_numpy()"
   ]
  },
  {
   "cell_type": "code",
   "execution_count": 11,
   "id": "90fa22f2",
   "metadata": {
    "execution": {
     "iopub.execute_input": "2022-05-20T04:26:52.810248Z",
     "iopub.status.busy": "2022-05-20T04:26:52.809668Z",
     "iopub.status.idle": "2022-05-20T04:26:52.838086Z",
     "shell.execute_reply": "2022-05-20T04:26:52.837394Z"
    },
    "papermill": {
     "duration": 0.052875,
     "end_time": "2022-05-20T04:26:52.840215",
     "exception": false,
     "start_time": "2022-05-20T04:26:52.787340",
     "status": "completed"
    },
    "tags": []
   },
   "outputs": [],
   "source": [
    "X=trainData\n",
    "Y=trainCls\n",
    "X_train, X_test, y_train, y_test = train_test_split(X, Y, test_size=0.30, random_state=10)"
   ]
  },
  {
   "cell_type": "markdown",
   "id": "be1a06c1",
   "metadata": {
    "papermill": {
     "duration": 0.020493,
     "end_time": "2022-05-20T04:26:52.881603",
     "exception": false,
     "start_time": "2022-05-20T04:26:52.861110",
     "status": "completed"
    },
    "tags": []
   },
   "source": [
    "The below GridSearchCV will run perfectly but it taking more time to execute."
   ]
  },
  {
   "cell_type": "code",
   "execution_count": 12,
   "id": "b954ac0d",
   "metadata": {
    "execution": {
     "iopub.execute_input": "2022-05-20T04:26:52.925000Z",
     "iopub.status.busy": "2022-05-20T04:26:52.924505Z",
     "iopub.status.idle": "2022-05-20T04:26:52.927867Z",
     "shell.execute_reply": "2022-05-20T04:26:52.927293Z"
    },
    "papermill": {
     "duration": 0.027381,
     "end_time": "2022-05-20T04:26:52.929828",
     "exception": false,
     "start_time": "2022-05-20T04:26:52.902447",
     "status": "completed"
    },
    "tags": []
   },
   "outputs": [],
   "source": [
    "#model = RandomForestClassifier()\n",
    "#n_estimators = [10,50,100]\n",
    "#max_features = ['sqrt', 'log2']\n",
    "#bootstrap=[True,False]\n",
    "#oob_score=[True,False]\n",
    "#warm_start=[True,False]\n",
    "#grid = dict(max_features=max_features,bootstrap=bootstrap,oob_score=oob_score,warm_start=warm_start)\n",
    "#cv = RepeatedStratifiedKFold(n_splits=10, n_repeats=3, random_state=1)\n",
    "#grid_search = GridSearchCV(estimator=model, param_grid=grid, n_jobs=-1, scoring='accuracy',error_score=0)\n",
    "#grid_result = grid_search.fit(X, Y)\n",
    "#print(\"Best: %f using %s\" % (grid_result.best_score_, grid_result.best_params_))\n",
    "#means = grid_result.cv_results_['mean_test_score']\n",
    "#stds = grid_result.cv_results_['std_test_score']\n",
    "#params = grid_result.cv_results_['params']\n",
    "#for mean, stdev, param in zip(means, stds, params):\n",
    "#    print(\"%f (%f) with: %r\" % (mean, stdev, param))"
   ]
  },
  {
   "cell_type": "code",
   "execution_count": 13,
   "id": "e0dd3393",
   "metadata": {
    "execution": {
     "iopub.execute_input": "2022-05-20T04:26:52.974143Z",
     "iopub.status.busy": "2022-05-20T04:26:52.973581Z",
     "iopub.status.idle": "2022-05-20T04:27:15.898040Z",
     "shell.execute_reply": "2022-05-20T04:27:15.897164Z"
    },
    "papermill": {
     "duration": 22.948773,
     "end_time": "2022-05-20T04:27:15.900425",
     "exception": false,
     "start_time": "2022-05-20T04:26:52.951652",
     "status": "completed"
    },
    "tags": []
   },
   "outputs": [
    {
     "data": {
      "text/plain": [
       "RandomForestClassifier(bootstrap=False, max_features='sqrt')"
      ]
     },
     "execution_count": 13,
     "metadata": {},
     "output_type": "execute_result"
    }
   ],
   "source": [
    "rfc=RandomForestClassifier(n_estimators=100,bootstrap=False,oob_score=False,max_features=\"sqrt\",warm_start=False)\n",
    "rfc.fit(X_train,y_train)"
   ]
  },
  {
   "cell_type": "code",
   "execution_count": 14,
   "id": "346f6a0f",
   "metadata": {
    "execution": {
     "iopub.execute_input": "2022-05-20T04:27:15.943694Z",
     "iopub.status.busy": "2022-05-20T04:27:15.943439Z",
     "iopub.status.idle": "2022-05-20T04:27:39.091297Z",
     "shell.execute_reply": "2022-05-20T04:27:39.090450Z"
    },
    "papermill": {
     "duration": 23.171926,
     "end_time": "2022-05-20T04:27:39.093297",
     "exception": false,
     "start_time": "2022-05-20T04:27:15.921371",
     "status": "completed"
    },
    "tags": []
   },
   "outputs": [
    {
     "data": {
      "text/plain": [
       "SelectFromModel(estimator=RandomForestClassifier(bootstrap=False,\n",
       "                                                 max_features='sqrt'))"
      ]
     },
     "execution_count": 14,
     "metadata": {},
     "output_type": "execute_result"
    }
   ],
   "source": [
    "sel = SelectFromModel(rfc)\n",
    "sel.fit(X_train, y_train)"
   ]
  },
  {
   "cell_type": "code",
   "execution_count": 15,
   "id": "990d9a71",
   "metadata": {
    "execution": {
     "iopub.execute_input": "2022-05-20T04:27:39.137996Z",
     "iopub.status.busy": "2022-05-20T04:27:39.137737Z",
     "iopub.status.idle": "2022-05-20T04:29:56.943337Z",
     "shell.execute_reply": "2022-05-20T04:29:56.942429Z"
    },
    "papermill": {
     "duration": 137.851754,
     "end_time": "2022-05-20T04:29:56.966731",
     "exception": false,
     "start_time": "2022-05-20T04:27:39.114977",
     "status": "completed"
    },
    "tags": []
   },
   "outputs": [
    {
     "name": "stdout",
     "output_type": "stream",
     "text": [
      "Test Score\n",
      "[0.84270953 0.83314198 0.85068913 0.85298622 0.84954058]\n",
      "Mean & Standard Deviation\n",
      "0.8458134876331032 +/- 0.007201565770857327\n"
     ]
    }
   ],
   "source": [
    "scores = cross_validate(rfc, trainData, trainCls , cv=5)\n",
    "print(\"Test Score\")\n",
    "print(scores['test_score'])\n",
    "print(\"Mean & Standard Deviation\")\n",
    "print(np.mean(scores['test_score']), \"+/-\", np.std(scores['test_score']))"
   ]
  },
  {
   "cell_type": "code",
   "execution_count": 16,
   "id": "a50c5251",
   "metadata": {
    "execution": {
     "iopub.execute_input": "2022-05-20T04:29:57.011713Z",
     "iopub.status.busy": "2022-05-20T04:29:57.011440Z",
     "iopub.status.idle": "2022-05-20T04:29:57.043278Z",
     "shell.execute_reply": "2022-05-20T04:29:57.042276Z"
    },
    "papermill": {
     "duration": 0.056784,
     "end_time": "2022-05-20T04:29:57.045211",
     "exception": false,
     "start_time": "2022-05-20T04:29:56.988427",
     "status": "completed"
    },
    "tags": []
   },
   "outputs": [
    {
     "data": {
      "text/plain": [
       "array([ True,  True,  True, False, False, False,  True,  True,  True,\n",
       "        True, False,  True,  True,  True,  True,  True, False,  True,\n",
       "        True,  True,  True,  True, False,  True, False, False, False,\n",
       "        True,  True, False, False, False,  True, False,  True, False,\n",
       "       False, False, False, False, False, False, False,  True, False,\n",
       "       False,  True, False, False,  True, False,  True, False, False,\n",
       "        True, False, False, False, False,  True, False,  True, False,\n",
       "        True, False,  True, False,  True, False, False, False, False,\n",
       "       False, False, False, False, False, False, False, False, False,\n",
       "       False, False, False, False, False, False, False, False,  True,\n",
       "       False,  True,  True, False,  True, False,  True, False, False,\n",
       "        True,  True,  True, False, False,  True,  True, False, False,\n",
       "       False, False, False, False, False, False, False, False, False,\n",
       "       False, False, False, False, False, False, False, False, False,\n",
       "       False, False, False, False,  True,  True, False,  True, False,\n",
       "       False, False, False, False,  True,  True, False, False, False,\n",
       "       False, False, False, False, False,  True,  True,  True, False,\n",
       "       False, False, False, False, False, False, False, False, False,\n",
       "       False, False, False, False, False, False, False, False, False,\n",
       "       False,  True, False,  True, False, False, False, False, False,\n",
       "        True, False,  True,  True,  True])"
      ]
     },
     "execution_count": 16,
     "metadata": {},
     "output_type": "execute_result"
    }
   ],
   "source": [
    "sel.get_support()"
   ]
  },
  {
   "cell_type": "code",
   "execution_count": 17,
   "id": "8cf6d8f9",
   "metadata": {
    "execution": {
     "iopub.execute_input": "2022-05-20T04:29:57.092684Z",
     "iopub.status.busy": "2022-05-20T04:29:57.092421Z",
     "iopub.status.idle": "2022-05-20T04:29:57.123466Z",
     "shell.execute_reply": "2022-05-20T04:29:57.122871Z"
    },
    "papermill": {
     "duration": 0.057578,
     "end_time": "2022-05-20T04:29:57.125219",
     "exception": false,
     "start_time": "2022-05-20T04:29:57.067641",
     "status": "completed"
    },
    "tags": []
   },
   "outputs": [
    {
     "data": {
      "text/plain": [
       "56"
      ]
     },
     "execution_count": 17,
     "metadata": {},
     "output_type": "execute_result"
    }
   ],
   "source": [
    "ss=pd.DataFrame(X_train)\n",
    "selected_feat= ss.columns[(sel.get_support())]\n",
    "len(selected_feat)"
   ]
  },
  {
   "cell_type": "code",
   "execution_count": 18,
   "id": "37fd0ef9",
   "metadata": {
    "execution": {
     "iopub.execute_input": "2022-05-20T04:29:57.171899Z",
     "iopub.status.busy": "2022-05-20T04:29:57.171383Z",
     "iopub.status.idle": "2022-05-20T04:29:57.280134Z",
     "shell.execute_reply": "2022-05-20T04:29:57.279322Z"
    },
    "papermill": {
     "duration": 0.134798,
     "end_time": "2022-05-20T04:29:57.282468",
     "exception": false,
     "start_time": "2022-05-20T04:29:57.147670",
     "status": "completed"
    },
    "tags": []
   },
   "outputs": [],
   "source": [
    "preds = rfc.predict(X_test)"
   ]
  },
  {
   "cell_type": "code",
   "execution_count": 19,
   "id": "86fcec89",
   "metadata": {
    "execution": {
     "iopub.execute_input": "2022-05-20T04:29:57.330330Z",
     "iopub.status.busy": "2022-05-20T04:29:57.330058Z",
     "iopub.status.idle": "2022-05-20T04:29:57.424960Z",
     "shell.execute_reply": "2022-05-20T04:29:57.423834Z"
    },
    "papermill": {
     "duration": 0.120968,
     "end_time": "2022-05-20T04:29:57.427104",
     "exception": false,
     "start_time": "2022-05-20T04:29:57.306136",
     "status": "completed"
    },
    "tags": []
   },
   "outputs": [
    {
     "name": "stdout",
     "output_type": "stream",
     "text": [
      "              precision    recall  f1-score   support\n",
      "\n",
      "           A       0.90      0.78      0.84       360\n",
      "           N       0.88      0.94      0.91      2346\n",
      "           O       0.79      0.73      0.76      1123\n",
      "           ~       0.65      0.41      0.50        90\n",
      "\n",
      "    accuracy                           0.85      3919\n",
      "   macro avg       0.80      0.72      0.75      3919\n",
      "weighted avg       0.85      0.85      0.85      3919\n",
      "\n"
     ]
    }
   ],
   "source": [
    "print(classification_report(y_test, preds))"
   ]
  },
  {
   "cell_type": "code",
   "execution_count": 20,
   "id": "6aa02563",
   "metadata": {
    "execution": {
     "iopub.execute_input": "2022-05-20T04:29:57.491823Z",
     "iopub.status.busy": "2022-05-20T04:29:57.490654Z",
     "iopub.status.idle": "2022-05-20T04:29:57.838597Z",
     "shell.execute_reply": "2022-05-20T04:29:57.837613Z"
    },
    "papermill": {
     "duration": 0.385551,
     "end_time": "2022-05-20T04:29:57.840775",
     "exception": false,
     "start_time": "2022-05-20T04:29:57.455224",
     "status": "completed"
    },
    "tags": []
   },
   "outputs": [
    {
     "data": {
      "image/png": "[encoded data removed]",
      "text/plain": [
       "<Figure size 432x288 with 2 Axes>"
      ]
     },
     "metadata": {
      "needs_background": "light"
     },
     "output_type": "display_data"
    }
   ],
   "source": [
    "disp = plot_confusion_matrix(rfc, X_test, y_test,\n",
    "                                 display_labels=None,\n",
    "                                 cmap=plt.cm.Blues)"
   ]
  },
  {
   "cell_type": "code",
   "execution_count": 21,
   "id": "8d027c2b",
   "metadata": {
    "execution": {
     "iopub.execute_input": "2022-05-20T04:29:57.889481Z",
     "iopub.status.busy": "2022-05-20T04:29:57.889170Z",
     "iopub.status.idle": "2022-05-20T04:29:57.893932Z",
     "shell.execute_reply": "2022-05-20T04:29:57.893079Z"
    },
    "papermill": {
     "duration": 0.032011,
     "end_time": "2022-05-20T04:29:57.896219",
     "exception": false,
     "start_time": "2022-05-20T04:29:57.864208",
     "status": "completed"
    },
    "tags": []
   },
   "outputs": [
    {
     "name": "stdout",
     "output_type": "stream",
     "text": [
      "['O' 'O' 'N' ... 'N' 'N' 'O']\n",
      "['O' 'O' 'N' ... 'N' 'N' 'O']\n"
     ]
    }
   ],
   "source": [
    "print(y_test)\n",
    "print(preds)"
   ]
  },
  {
   "cell_type": "code",
   "execution_count": 22,
   "id": "b669b974",
   "metadata": {
    "execution": {
     "iopub.execute_input": "2022-05-20T04:29:57.946061Z",
     "iopub.status.busy": "2022-05-20T04:29:57.945073Z",
     "iopub.status.idle": "2022-05-20T04:29:57.954607Z",
     "shell.execute_reply": "2022-05-20T04:29:57.953508Z"
    },
    "papermill": {
     "duration": 0.036882,
     "end_time": "2022-05-20T04:29:57.957046",
     "exception": false,
     "start_time": "2022-05-20T04:29:57.920164",
     "status": "completed"
    },
    "tags": []
   },
   "outputs": [
    {
     "name": "stdout",
     "output_type": "stream",
     "text": [
      "Accuracy:  0.8542995662158714\n"
     ]
    }
   ],
   "source": [
    "print(\"Accuracy: \", accuracy_score(preds,y_test))"
   ]
  },
  {
   "cell_type": "code",
   "execution_count": 23,
   "id": "36fb991f",
   "metadata": {
    "execution": {
     "iopub.execute_input": "2022-05-20T04:29:58.008383Z",
     "iopub.status.busy": "2022-05-20T04:29:58.008108Z",
     "iopub.status.idle": "2022-05-20T04:29:58.133211Z",
     "shell.execute_reply": "2022-05-20T04:29:58.131992Z"
    },
    "papermill": {
     "duration": 0.153301,
     "end_time": "2022-05-20T04:29:58.135998",
     "exception": false,
     "start_time": "2022-05-20T04:29:57.982697",
     "status": "completed"
    },
    "tags": []
   },
   "outputs": [
    {
     "name": "stdout",
     "output_type": "stream",
     "text": [
      "['N' 'N' 'O' ... '~' 'N' 'N']\n"
     ]
    }
   ],
   "source": [
    "proba = rfc.predict(test.values)\n",
    "print(proba)"
   ]
  },
  {
   "cell_type": "code",
   "execution_count": 24,
   "id": "106a23e9",
   "metadata": {
    "execution": {
     "iopub.execute_input": "2022-05-20T04:29:58.188108Z",
     "iopub.status.busy": "2022-05-20T04:29:58.187598Z",
     "iopub.status.idle": "2022-05-20T04:29:58.193375Z",
     "shell.execute_reply": "2022-05-20T04:29:58.192701Z"
    },
    "papermill": {
     "duration": 0.032918,
     "end_time": "2022-05-20T04:29:58.195206",
     "exception": false,
     "start_time": "2022-05-20T04:29:58.162288",
     "status": "completed"
    },
    "tags": []
   },
   "outputs": [],
   "source": [
    "results = pd.DataFrame(list(zip(test_id, proba)),\n",
    "               columns =['ID', 'Predicted'])"
   ]
  },
  {
   "cell_type": "code",
   "execution_count": 25,
   "id": "d9102351",
   "metadata": {
    "execution": {
     "iopub.execute_input": "2022-05-20T04:29:58.246329Z",
     "iopub.status.busy": "2022-05-20T04:29:58.245831Z",
     "iopub.status.idle": "2022-05-20T04:29:58.254050Z",
     "shell.execute_reply": "2022-05-20T04:29:58.252925Z"
    },
    "papermill": {
     "duration": 0.036453,
     "end_time": "2022-05-20T04:29:58.256018",
     "exception": false,
     "start_time": "2022-05-20T04:29:58.219565",
     "status": "completed"
    },
    "tags": []
   },
   "outputs": [
    {
     "name": "stdout",
     "output_type": "stream",
     "text": [
      "       ID Predicted\n",
      "0  C00000         N\n",
      "1  C00001         N\n",
      "2  C00002         O\n",
      "3  C00003         O\n",
      "4  C00004         O\n"
     ]
    }
   ],
   "source": [
    "print(results.head())"
   ]
  },
  {
   "cell_type": "code",
   "execution_count": 26,
   "id": "50a130e3",
   "metadata": {
    "execution": {
     "iopub.execute_input": "2022-05-20T04:29:58.307222Z",
     "iopub.status.busy": "2022-05-20T04:29:58.306700Z",
     "iopub.status.idle": "2022-05-20T04:29:58.317078Z",
     "shell.execute_reply": "2022-05-20T04:29:58.316177Z"
    },
    "papermill": {
     "duration": 0.038469,
     "end_time": "2022-05-20T04:29:58.319287",
     "exception": false,
     "start_time": "2022-05-20T04:29:58.280818",
     "status": "completed"
    },
    "tags": []
   },
   "outputs": [],
   "source": [
    "results.to_csv(\"submission.csv\",index=False)"
   ]
  }
 ],
 "metadata": {
  "kernelspec": {
   "display_name": "Python 3",
   "language": "python",
   "name": "python3"
  },
  "language_info": {
   "codemirror_mode": {
    "name": "ipython",
    "version": 3
   },
   "file_extension": ".py",
   "mimetype": "text/x-python",
   "name": "python",
   "nbconvert_exporter": "python",
   "pygments_lexer": "ipython3",
   "version": "3.7.12"
  },
  "papermill": {
   "default_parameters": {},
   "duration": 198.978713,
   "end_time": "2022-05-20T04:29:59.065018",
   "environment_variables": {},
   "exception": null,
   "input_path": "__notebook__.ipynb",
   "output_path": "__notebook__.ipynb",
   "parameters": {},
   "start_time": "2022-05-20T04:26:40.086305",
   "version": "2.3.4"
  }
 },
 "nbformat": 4,
 "nbformat_minor": 5
}
